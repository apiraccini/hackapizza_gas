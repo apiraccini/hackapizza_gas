{
 "cells": [
  {
   "cell_type": "code",
   "execution_count": null,
   "metadata": {},
   "outputs": [],
   "source": [
    "# %% [code]\n",
    "import os\n",
    "import glob\n",
    "from docling.document_converter import DocumentConverter\n",
    "\n",
    "\n",
    "# Specifica il percorso della cartella contenente i file PDF\n",
    "main_path = r\"c:\\Users\\Gianluca\\Documents\\Hackaton Datapizza\\hackapizza_gas\\data\"\n",
    "\n",
    "output_folder = os.path.join(main_path, \"processed\\menu_md\")\n",
    "os.makedirs(output_folder, exist_ok=True)\n",
    "\n",
    "folder = os.path.join(main_path,'raw\\Menu')\n",
    "# Verifica che la cartella esista\n",
    "if not os.path.isdir(folder):\n",
    "    print(f\"La cartella '{folder}' non esiste.\")\n",
    "else:\n",
    "    # Cerca tutti i file PDF nella cartella\n",
    "    pdf_files = glob.glob(os.path.join(folder, \"*.pdf\"))\n",
    "    if not pdf_files:\n",
    "        print(\"Nessun file PDF trovato in:\", folder)\n",
    "    else:\n",
    "        i = 0\n",
    "        for pdf_file in pdf_files:\n",
    "            i += 1\n",
    "            pdf_file_name = os.path.splitext(os.path.basename(pdf_file))[0]\n",
    "            converter = DocumentConverter()\n",
    "            result = converter.convert(pdf_file)\n",
    "            md_result = result.document.export_to_markdown()  # output: \"## Docling Technical Report[...]\"\n",
    "            with open(os.path.join(output_folder,f\"{pdf_file_name}.md\"), \"w\", encoding=\"utf-8\") as file:\n",
    "                file.write(md_result)\n",
    "            \n",
    "            print(f'percentuale file tradotti {i/len(pdf_files)*100}%, siamo al file numero {i} : {pdf_file_name}')\n",
    "\n",
    "\n",
    "\n",
    "        \n",
    "        "
   ]
  },
  {
   "cell_type": "code",
   "execution_count": null,
   "metadata": {},
   "outputs": [],
   "source": []
  }
 ],
 "metadata": {
  "kernelspec": {
   "display_name": ".venv",
   "language": "python",
   "name": "python3"
  },
  "language_info": {
   "codemirror_mode": {
    "name": "ipython",
    "version": 3
   },
   "file_extension": ".py",
   "mimetype": "text/x-python",
   "name": "python",
   "nbconvert_exporter": "python",
   "pygments_lexer": "ipython3",
   "version": "3.10.16"
  }
 },
 "nbformat": 4,
 "nbformat_minor": 2
}
