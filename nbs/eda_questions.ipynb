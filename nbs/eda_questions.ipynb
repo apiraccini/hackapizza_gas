{
 "cells": [
  {
   "cell_type": "markdown",
   "metadata": {},
   "source": [
    "# Questions EDA"
   ]
  },
  {
   "cell_type": "code",
   "execution_count": 1,
   "metadata": {},
   "outputs": [],
   "source": [
    "import json"
   ]
  },
  {
   "cell_type": "code",
   "execution_count": 3,
   "metadata": {},
   "outputs": [
    {
     "name": "stdout",
     "output_type": "stream",
     "text": [
      "[\n",
      "    {\n",
      "        \"question\": \"Quali sono i piatti che includono le Chocobo Wings come ingrediente?\",\n",
      "        \"parsed_question\": {\n",
      "            \"ingredients_ok\": [\n",
      "                \"Chocobo Wings\"\n",
      "            ],\n",
      "            \"ingredients_ko\": null,\n",
      "            \"techniques_ok\": null,\n",
      "            \"techniques_ko\": null,\n",
      "            \"planets_ok\": null,\n",
      "            \"planets_ko\": null,\n",
      "            \"restaurants_ok\": null,\n",
      "            \"restaurants_ko\": null,\n",
      "            \"groups_ok\": null,\n",
      "            \"groups_ko\": null,\n",
      "            \"licences\": null\n",
      "        }\n",
      "    },\n",
      "    {\n",
      "        \"question\": \"Quali piatti dovrei scegliere per un banchetto a tema magico che includa le celebri Cioccorane?\",\n",
      "        \"parsed_question\": {\n",
      "            \"ingredients_ok\": null,\n",
      "            \"ingredients_ko\": null,\n",
      "            \"techniques_ok\": null,\n",
      "            \"techniques_ko\": null,\n",
      "            \"planets_ok\": null,\n",
      "            \"planets_ko\": null,\n",
      "            \"restaurants_ok\": null,\n",
      "            \"restaurants_ko\": null,\n",
      "            \"groups_ok\": null,\n",
      "            \"groups_ko\": null,\n",
      "            \"licences\": null\n",
      "        }\n",
      "    },\n",
      "    {\n",
      "        \"question\": \"Quali sono i piatti della galassia che contengono Latte+?\",\n",
      "        \"parsed_question\": {\n",
      "            \"ingredients_ok\": [\n",
      "                \"Latte\"\n",
      "            ],\n",
      "            \"ingredients_ko\": null,\n",
      "            \"techniques_ok\": null,\n",
      "            \"techniques_ko\": null,\n",
      "            \"planets_ok\": null,\n",
      "            \"planets_ko\": null,\n",
      "            \"restaurants_ok\": null,\n",
      "            \"restaurants_ko\": null,\n",
      "            \"groups_ok\": null,\n",
      "            \"groups_ko\": null,\n",
      "            \"licences\": null\n",
      "        }\n",
      "    }\n",
      "]\n"
     ]
    }
   ],
   "source": [
    "parsed_questions = json.load(open('../data/processed/parsed_questions.json'))\n",
    "print(json.dumps(parsed_questions[0:3], indent=4))"
   ]
  },
  {
   "cell_type": "code",
   "execution_count": null,
   "metadata": {},
   "outputs": [],
   "source": []
  }
 ],
 "metadata": {
  "kernelspec": {
   "display_name": ".venv",
   "language": "python",
   "name": "python3"
  },
  "language_info": {
   "codemirror_mode": {
    "name": "ipython",
    "version": 3
   },
   "file_extension": ".py",
   "mimetype": "text/x-python",
   "name": "python",
   "nbconvert_exporter": "python",
   "pygments_lexer": "ipython3",
   "version": "3.10.16"
  }
 },
 "nbformat": 4,
 "nbformat_minor": 2
}
