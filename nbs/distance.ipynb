{
 "cells": [
  {
   "cell_type": "code",
   "execution_count": 1,
   "metadata": {},
   "outputs": [],
   "source": [
    "import os\n",
    "import pandas as pd\n",
    "import random\n",
    "\n",
    "\n",
    "os.chdir('..')\n",
    "\n",
    "distanze = pd.read_csv(os.path.join(os.getcwd(), 'data\\\\raw\\Misc\\\\Distanze.csv'))\n",
    "distanze.index = distanze['/']\n",
    "distanze = distanze.drop(columns='/')\n",
    "\n",
    "recipe = {\n",
    "    'recipe_name' : 'prova',\n",
    "    'planet' : 'Krypton',\n",
    "    'planet_distance' : round(random.uniform(distanze['Krypton'].min(), distanze['Krypton'].max()))\n",
    "}"
   ]
  },
  {
   "cell_type": "code",
   "execution_count": null,
   "metadata": {},
   "outputs": [
    {
     "data": {
      "text/plain": [
       "['Quali sono i piatti che necessitano di una licenza di grado 3 o superiore per la preparazione e sono serviti in un ristorante che si trova entro un raggio di 659 anni luce dal pianeta Namecc, Namecc incluso?',\n",
       " 'Quali sono i piatti che necessitano almeno della licenza Psionica di grado 4 e che sono stati preparati in ristoranti entro un raggio di 176 anni luce dal pianeta Arrakis, Arrakis incluso?',\n",
       " 'Quali piatti sono stati creati utilizzando almeno una tecnica di surgelamento secondo il di Sirius Cosmo e sono stati serviti in un ristorante situato entro un raggio di 317 anni luce dal pianeta Krypton, Krypton incluso?',\n",
       " 'Quali piatti speciali sono stati creati utilizzando le tecniche di impasto del di Sirius Cosmo e sono serviti nei ristoranti vicini al pianeta Krypton, entro un raggio di 21 anni luce, Krypton incluso?',\n",
       " \"Quali sono i piatti disponibili nei ristoranti entro 126 anni luce da Cybertron, quest'ultimo incluso, che non includono Funghi dell'Etere?\",\n",
       " \"Quali piatti possiamo gustare in un ristorante entro 83 anni luce da Cybertron, quest'ultimo incluso, evitando rigorosamente quelli cucinati con Farina di Nettuno?\"]"
      ]
     },
     "execution_count": 6,
     "metadata": {},
     "output_type": "execute_result"
    }
   ],
   "source": [
    "\n",
    "distance_question = [\n",
    "    \"Quali sono i piatti che necessitano di una licenza di grado 3 o superiore per la preparazione e sono serviti in un ristorante che si trova entro un raggio di 659 anni luce dal pianeta Namecc, Namecc incluso?\",\n",
    "    \"Quali sono i piatti che necessitano almeno della licenza Psionica di grado 4 e che sono stati preparati in ristoranti entro un raggio di 176 anni luce dal pianeta Arrakis, Arrakis incluso?\",\n",
    "    \"Quali piatti sono stati creati utilizzando almeno una tecnica di surgelamento secondo il di Sirius Cosmo e sono stati serviti in un ristorante situato entro un raggio di 317 anni luce dal pianeta Krypton, Krypton incluso?\",\n",
    "    \"Quali piatti speciali sono stati creati utilizzando le tecniche di impasto del di Sirius Cosmo e sono serviti nei ristoranti vicini al pianeta Krypton, entro un raggio di 21 anni luce, Krypton incluso?\",\n",
    "    \"Quali sono i piatti disponibili nei ristoranti entro 126 anni luce da Cybertron, quest'ultimo incluso, che non includono Funghi dell'Etere?\",\n",
    "    \"Quali piatti possiamo gustare in un ristorante entro 83 anni luce da Cybertron, quest'ultimo incluso, evitando rigorosamente quelli cucinati con Farina di Nettuno?\"\n",
    "]"
   ]
  },
  {
   "cell_type": "code",
   "execution_count": 5,
   "metadata": {},
   "outputs": [
    {
     "data": {
      "text/plain": [
       "Index(['Krypton'], dtype='object', name='/')"
      ]
     },
     "execution_count": 5,
     "metadata": {},
     "output_type": "execute_result"
    }
   ],
   "source": [
    "distanze[distanze[recipe['planet']] < recipe['planet_distance']].index"
   ]
  },
  {
   "cell_type": "code",
   "execution_count": null,
   "metadata": {},
   "outputs": [],
   "source": []
  }
 ],
 "metadata": {
  "kernelspec": {
   "display_name": ".venv",
   "language": "python",
   "name": "python3"
  },
  "language_info": {
   "codemirror_mode": {
    "name": "ipython",
    "version": 3
   },
   "file_extension": ".py",
   "mimetype": "text/x-python",
   "name": "python",
   "nbconvert_exporter": "python",
   "pygments_lexer": "ipython3",
   "version": "3.10.16"
  }
 },
 "nbformat": 4,
 "nbformat_minor": 2
}
