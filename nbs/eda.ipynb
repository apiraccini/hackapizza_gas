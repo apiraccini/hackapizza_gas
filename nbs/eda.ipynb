{
 "cells": [
  {
   "cell_type": "markdown",
   "metadata": {},
   "source": [
    "# EDA"
   ]
  },
  {
   "cell_type": "code",
   "execution_count": 1,
   "metadata": {},
   "outputs": [],
   "source": [
    "import json"
   ]
  },
  {
   "cell_type": "markdown",
   "metadata": {},
   "source": [
    "## Questions"
   ]
  },
  {
   "cell_type": "code",
   "execution_count": 2,
   "metadata": {},
   "outputs": [
    {
     "name": "stdout",
     "output_type": "stream",
     "text": [
      "{\n",
      "    \"question\": \"Quali sono i piatti che includono le Chocobo Wings come ingrediente?\",\n",
      "    \"parsed_question\": {\n",
      "        \"ingredients\": {\n",
      "            \"and\": [\n",
      "                \"Chocobo Wings\"\n",
      "            ],\n",
      "            \"or\": [],\n",
      "            \"or_length\": null,\n",
      "            \"not\": []\n",
      "        },\n",
      "        \"techniques\": null,\n",
      "        \"techniques_group\": null,\n",
      "        \"restaurants\": null,\n",
      "        \"groups\": null,\n",
      "        \"licences\": null,\n",
      "        \"planets_ok\": null,\n",
      "        \"planets_distance\": null,\n",
      "        \"planets_ko\": null,\n",
      "        \"galactic_code\": null\n",
      "    }\n",
      "}\n"
     ]
    }
   ],
   "source": [
    "parsed_questions = json.load(open('../data/processed/parsed_questions.json'))\n",
    "print(json.dumps(parsed_questions[0], indent=4))"
   ]
  },
  {
   "cell_type": "markdown",
   "metadata": {},
   "source": [
    "## Recipes"
   ]
  },
  {
   "cell_type": "code",
   "execution_count": 4,
   "metadata": {},
   "outputs": [
    {
     "name": "stdout",
     "output_type": "stream",
     "text": [
      "['R i s o at e \"\\' Esna dl l e Dn\" trn  Lsez  e   ue', 'Stelle Astrofisiche', \"L'Essenza del Multiverso su Pandora\", 'Tutti a TARSvola', 'Armonia Universale', \"L'Universo in Cucina\", \"L'Infinito in un Boccone\", 'Il Firmamento', 'Le Stelle che Ballano', 'Sapore del Dune', 'Cosmica Essenza', 'Le Dimensioni del Gusto', \"L'Eco dei Sapori\", \"L'Equilibrio Quantico\", 'Universo Gastronomico di Namecc', \"L'Architetto dell'Universo\", \"L'Essenza dell'Infinito\", 'Quantico', 'Le Stelle Danzanti', 'Anima Cosmica', \"L'Essenza Cosmica\", \"L'Oasi delle Dune Stellari\", \"L'Etere del Gusto\", 'Sala del Valhalla', \"L'Eredità Galattica\", \"L'Eco di Pandora\", \"Stelle dell'Infinito Celestiale\", 'Il Ristorante delle Dune Stellari', \"L'Essenza di Asgard\"]\n"
     ]
    }
   ],
   "source": [
    "parsed_recipes = json.load(open('../data/processed/recipes.json'))\n",
    "\n",
    "all_restaurants = []\n",
    "all_ingredients = []\n",
    "all_techniques = []\n",
    "\n",
    "for recipe in parsed_recipes:\n",
    "    if recipe['recipe_restaurant']:\n",
    "        all_restaurants.append(recipe['recipe_restaurant'])\n",
    "    if recipe['recipe_ingredients']:\n",
    "        all_ingredients.extend(recipe['recipe_ingredients'])\n",
    "    if recipe['recipe_techniques']:\n",
    "        all_techniques.extend(recipe['recipe_techniques'])\n",
    "\n",
    "all_restaurants = list(set(all_restaurants))\n",
    "all_ingredients = list(set(all_ingredients))\n",
    "all_techniques = list(set(all_techniques))\n",
    "\n",
    "print(all_restaurants)"
   ]
  },
  {
   "cell_type": "code",
   "execution_count": 10,
   "metadata": {},
   "outputs": [
    {
     "name": "stdout",
     "output_type": "stream",
     "text": [
      "264 ['Carne di Balena Spaziale', 'Rosa di Lattuga Namecciana', 'Affumicatura Temporale Risonante', 'uova di fenice', 'Radici di Singolarità', 'Carne di Balena Spaziale e di Kraken', 'polvere di stelle', 'risotto di Alghe Bioluminescenti', 'pane di Luce', 'Frammenti di Supernova', 'essenza di Tachioni', 'Teste di idra', 'Alghe bioluminescenti', 'Nduja fritta tanto', 'Mycoflora fresca', 'Spaghi del Sol', 'shard di materia oscura', 'Nettare di Sirena', 'Granuli di Nebbia arcobaleno', 'Muffa Lunare', 'cristalli di Vero Ghiaccio', 'Flusso di Particelle Isoarmoniche', 'funghi orbitali', 'carne di mucca', 'Colonia di Mycoflora', 'cristalli di neulaite', 'essenza di tachioni', 'puré di Carne di Xenodonte', 'Balena spaziale', 'uovo di fenice', 'Alghe biuminescenti', 'purè delicato di Amido di Stellarion', 'ghiaccio', 'Pane degli abissi', 'Fusill Vento', 'teste di idra', 'pesto di Alghe Bioluminescenti', 'crema aerea di Muf Lunare', 'filetto di carne di Kraken', 'amido di Stellarion', 'Lacrime di Andromeda', 'Amido di Stellarion', 'Pane di Luce', 'teste di Idra', 'Nebulite', 'Affumicatura Polarizzata a Freddo Iperbarico', 'Materia Oscura', \"Funghi dell'etere\", 'granuli di nebbia arcobaleno', 'Teste di Idra', 'Risoto dei Multiversi', 'carne di drago', 'radici di gravità', 'Polvere di Pulsar', 'cristallini di Amido di Stellarion', 'Balena Spaziale', 'Mandragora', 'Essenza di Tachioni', 'zuccherosi frammenti di stelle', 'Liane di Plasmod', 'Pickle Rick Croccante', 'succo di Baccacedro', 'Liane di plasmodio', 'Cristalli di nebula', 'shard di prisma stellare', 'Polvere di Stelle', 'Alghe Bioluminescenti', 'Speziaria', 'spaghi del sole', 'nduja fritta tanto', 'Vero Ghiaccio', 'Baccacedro caramellato', 'Frutti del Diavolo', 'Colonies di Mycoflora', 'Risotto dei Multiversi', 'Burrobirra', 'Spezie Melange', 'Funghi Orbitali', 'essenza di speziaria', 'zucchero cosmico', 'Muffa lunare', 'Salsa Szechuan', 'spore quantiche', 'Marinatura Psionica', 'Fibra di sintetex', 'Carne di xenodonte', 'carne di balena spaziale', 'Nettare di sirena', 'car di balena spaziale', 'gnocchi del crepuscolo', 'Carpaccio di Funghi Orbitali', 'Sale Temporale', 'liane di Plasmodio', 'Carne di Mucca', 'Carne di mucca', 'carne di xenodonte', 'amido di stellarion', 'Carpaccio di Carne di Kraken', 'Sintetex', 'Pane degli Abissini', 'pane degli Abissi', 'Brodo di Plasmodio', 'cristalli di Nebulite', 'Foglie di Nebulosa', 'Fusilli del Vento', 'Lattuga Namecciana', 'pane', 'Polvere Crononite', 'Colonia di Mycoflora fermentata psionicamente', 'Lacrime di Unicorno', 'Lattuga namecciana', 'Carne di Kraken', 'Spaghi del Sole', 'polvere effervescente di Pulsar', 'Petali di Eco', 'nettare di sirena', 'salsa Nduja Fritta Tanto', 'Psionica', 'Foglie di mandragora', 'Radici di singolarità', 'Mare', 'Bacche di Baccacedro', 'cristalli di memoria', 'Carne di Xenodonte', 'verdure stagionali', 'Marinatura psionica', 'Carne di Balena spaziale', 'Polvere di Crononite', 'Essenza di vuoto', 'Sfera di Vero Ghiaccio', 'Carne di balena Spaziale', 'Uovo di Fenice', 'Farina di Nettuno', 'Essenza di Vuoto', 'alghe bioluminescenti', 'petali di eco', 'Polvere di Stell', 'Carne di Mucca e Drago', 'salsa szechuan interdimensionale', 'Mousse di Shard di Prisma Stellare', 'Granuli di nebbia arcobaleno', 'foglie di mandragora', 'Erba pipa', 'Carne di Kraken e Xenodonte', 'baccadètro', \"Teste d'Idra\", 'farina di Nettuno', \"radici di singolarit\\\\'\\\\'affumicate\", 'Radici di gravità', 'balena spaziale', 'Gnocchi del Crepuscolo', 'Fusilli del vento', 'Tartare di Teste di Idra', 'Kraken', 'Slurm', 'marinatura psionica', 'carni succulenti di Xenodonde', 'Carne rigenerativa delle T di Idra', 'Essenzia di Tachioni', 'Nduja Fritta Tanto', 'Spaghi del sole', 'Nebbia Arcobaleno', 'riso di cassandra', 'salsa', 'fibra di Sintetex', 'scaglie di stelle', 'radici di Singolarità', 'plasma vitale', 'Carne di Dragna', 'muffa lunare', 'Foglie di Nebula', 'foglie di Mandragora', 'Gnocchi del crepuscolo', 'Fibra di Sintetex', 'Amido di stellarion', 'foglie di nebulosa', 'Shard di Materia Oscura', 'Polvere di Farina di Nettuno', 'Cristalli di Nebulite', 'filetto di Carne di Mucca', 'Risotto di Cassandra', 'Nduja fritta Tanto', 'Carne di drago', 'Salsa szechuan', 'Polvere di stelle', 'Riso di Cassandra', 'Radici di Gravità', 'fibra di sintetex', 'Essenza di Speziaria', 'Salsa Szechuan interdimensionale', 'Chocobo Wings', 'Mycoflora', 'colonia di mycoflora', 'Spezie melange', 'erba', 'buccia del baccacedro', 'Ravioli al Vaporeon', 'Carne delle Teste di Idra', 'Pane degli Abissi', 'Latte+', 'cristalli di nebulite', 'biscotti della galassia', 'Carne di kraken', 'Spore Quantiche', 'Cioccorane', 'biscotti della Galassia', 'radici di Gravità', 'Radi Singolarità', 'pelli di Alghe Bioluminescenti', \"tagliatelle 'Spaghi del sole'\", 'Foglie di Mandragora', 'Affumicatura Psionica Sensoriale', 'uovo di Fenice', 'Uova di fenice', 'Cristalli di Memoria', 'Erba Pipa', 'Sale tempus', 'Pane di luce', 'Petali di eco', 'Essenza di speziaria', 'Polvere di crononite', 'farina di nettuno', 'erba pipa', \"Funghi dell'Etere\", 'Baccacedro', 'scaglie stellari', 'uova di Fenice', 'Funghi orbitali', 'Essenza di Tach', 'biscotti della g', 'filetto di carne di mucca', 'polvere di crononite', 'Fibra Sintetex', 'essenza di Vuoto', 'Carne di balena spaziale', 'fusilli del vento', 'Nettare Sirena', 'Marinatura Sotto Zero a Polarità Inversa', 'salsa di Nettare di Sirena', 'Shard di Prisma Stellare', 'Mycroflora', 'Sugo fusion', 'polvere di Frammenti di Supernova', 'Biscotti della Galassia', 'Ghiaccio di Criofenice', 'Frammenti di supernova', 'Cristalli di Nebalite', 'Granuli di Nebbia Arcobaleno', 'Sale temporale', 'brodo di Teste di idra', 'Plasma Vitale', 'Carne di Drago speziata', 'Sashimi di Magicarp', 'proteine di mare e terra', 'pane degli abissi', 'pane di luce', 'Carne di Drago', 'filetto di vegetali sublimati', 'Liane di Plasmodio', 'Biscotti della galassia', 'Fusilli del viento', 'Uova di Fenice', 'succo vivace di Baccacedro', 'Shard di prisma stellare']\n",
      "[]\n"
     ]
    }
   ],
   "source": [
    "print(len(all_ingredients), all_ingredients)\n",
    "lattea_ingredients = [ingredient for ingredient in all_ingredients if 'latte' in ingredient]\n",
    "print(lattea_ingredients)"
   ]
  },
  {
   "cell_type": "code",
   "execution_count": 7,
   "metadata": {},
   "outputs": [
    {
     "name": "stdout",
     "output_type": "stream",
     "text": [
      "303 ['Bollitura termografica a rotazione veloce', 'Sinergia Elettro-Osmotica Programmabile.', 'Affumicatura Temporale Risonante', 'sinergia elettroosmotica programmabile', 'Marinata a infusione gravitazionale', 'cottura a vapore con flusso di particelle isoarmoniche', 'Cottura a Vapore Risonante Simbiotico', 'Saltare in Padella Siner Psionica', 'Realtà Energetiche Parallele', 'fermentazione quantico biometrica', 'affumicatura temporale risonante', 'Affumicatura a Stratificazione Quanti', 'Cottura sottovuoto con tecnica del Bioma Sintetico', 'cottura classica in padella', 'Nduja fritta tanto', 'Fermentazione quantico-biometrica', 'Crescita nel piatto stesso', 'Cottura a Forno Dinamico Inversionale', 'Cottura olografica quantum fluttuante', 'impasto a Campi magnetici Dualistici', 'Marinatura temporeale Sincronizzata', 'Marinatura in essenza di tachioni', 'Saltare in padella Classica', 'manipolazioni della Luce (I)', 'Cottura idrodinamica autoregolante', 'Decostruzione Ancestrale', 'Marinatura temporale sincronizzata.', 'bollitura termografica a rotazione veloce', 'Affettamento a Pulsazioni Quantistiche', 'affumicatura temporal risonante', 'Lievitato con il caldo abbraccio della stella', 'Luce II', 'cotto con la luce delle stelle', 'Sferificazione con Campi Magnetici Entropici', 'Grigliatura Eletro-Molecolare a Spaziatura Variabile', 'Flusso di Particelle Isoarmoniche', 'Cottura a Vapore termocinetica multipla', 'Congelamento Bio-Luminiscente Sincronico', 'Impasto Gravitazionale Vorticoso', 'Incisione Elettromagnetica Plasmica', 'raffreddato tramite Vero Ghiaccio', 'Sottovuoto Antimateria', 'Pulsazioni Quantistiche', 'decostruzione magnetica risonante', 'Amalgamazione Sintetica Molecolare', 'Polvere di stelle scintillante', 'Marinatura a Infusione Gravitazionale', 'campi gravitazionali', 'Uso di Plasma Vitale per effetti visivi', 'Bollitura Termografica a Rotazione veloce', 'Cottura a vapore Ecodinamico Bilanciato', 'Grigliatura a Energia Stellare Diiv', \"Reazioni d'antimateria Diluite\", 'Cottura a Vapore Termocinetica Multipla', 'Impasto a Campi magnetici Dualistici', 'Nduja Fritta', 'ridefinisce la perc di contorno', 'infusione di energia solare', 'bollitura infrasonica armonizzata', 'Impasto gravitazionale vorticoso', 'taglio a risonanza sonica rigenerativa', 'Affumicatura Polarizzata a Freddo Iperbarico', 'Cottura sottovuoto multirealtà collassante', 'caramellato', 'Microonde Entropiche Sincronizzate', 'Cryo-Tessitura Energetica Polarizzata', 'Decostruzione interdimensionale lovecraftiana', 'Gravitazionale (I)', 'cotto a vapore con Flusso di Particelle Isoarmoniche', 'Affumicatura a Stratificazione Quantica', 'Impasto Gravitazionale Vorticoso.', 'marinatura temporale sincronizzata', 'Bollitura Termografica a Rotazione Veloce', 'Bollitura Infrasonica Armonizzata.', 'sottovuoto bioma sintetico', 'Essenza di Tachioni', 'Ebollizione Magneto-Cinetica Pulsante', 'Cristallizzazione Temporale Reversiva', 'Cottura sottovuoto antimateria', 'cotto con la radianza di una stella', 'Cottura olografica Quantum fluttuante', 'Cottura Sottovuoto Bioma Sintetico', 'Amalgamazione sintetica molecolare', 'Fermentazione Quantica a Strati Multiversali', 'Bollitura Entropica sincronizzata', 'Fermentazione Psionica energetica', 'Emulsione', 'Sferificazione a Gravità Psionica Variabile', 'Idro-Cristallizzazione sonora quantistica', 'cotti in microonde entropiche sincronizzate', 'Idro-cristallizzazione sonora quantistica', 'Affumicatura temporale risonante', 'Salsa Szechuan', 'Marinatura Psionica', 'Fermentazione Temporale sincronizzata', 'Cottura a Vapore Ecodi Bilanciato', \"Reazioni d'Antimateria Diluite\", 'Cottura Sottovuoto Antimateria', 'Grigliatura Eletro-Molecolare a spaziatura variabile', 'Taglio a Risonanza sonica Rigenerativa', 'lavorata per assicurare sicurezza e delizia', 'Ebollizione Magneto-cinetica Pulsanta', 'Cottura con microonde Entropiche sincronizzate', 'Affettamento a pulsazioni quantistiche', 'cotti sottovuoto frugalmente energetico negativo', 'saltato in padella in maniera classica', 'cotti al vapore ecodinamico bilanciato', 'Manipolazione Gravitazionale', 'Gocce di salse levitano sulla vostra tavola', 'Marinatura', 'saltati in padella', 'Grigliatura Psionica dinamica Ritmica', 'Cottura a vapore risonante simbiotico', 'Fermentazione psionica energetica', 'Bollitura Entropica Sincronizzata', 'Spolverata di Polvere di Pulsar', 'Fermentazione Quantico biometrica', 'Sinergia Elettro-Osmotica Programmabile', 'Cottura a Vario Ecodinamico Bilanciato', 'Bollitura infrasonica armonizzata', 'amalgamazione sintetica molecolare', 'Amalgamazione Sintetica Molecolare.', 'flusso di particelle isoarmoniche', 'Riduzione', 'Grigliatura Elettro-Molecolare a Spaziatura Variabile', 'Taglio a Risonanza Sonica Rigenerativa', 'Cottura a vapore termocinetica multipla', 'Grigliatura Elettro-molecolare a Spaziatura Variabile', 'Impasto a Campi magnetici dualistici', 'sinergia elettro-osmotica programmabile', 'Cottura sottovuoto multirealità collassante', 'Grigliatura Eletto-Molecolare a Spaziatura Variabile', 'cottura a vapore con Flusso di Particelle Isoarmoniche', 'Cottura Olografica Quantum Fluttuante', 'Sinergia Elettro-osmotica Programmabile', 'Grigliatura Eletro-Molecolare a Spaziatura variabile', 'Affumicatura psionica sensoriale', 'miniaturizzazione del riso', 'incisioni elettromagnetiche plasmatiche', 'Grigliatura a Energia Stellare DiV', 'Psionica dello chef', 'Sinergia elettro-osmotica programmabile', 'Marinatura psionica', 'Cottura con Microonde entropiche Sincronizzate', 'saltata manovralmente alla perfezione in padella', 'grigliatura a Energia Stellare Diiv', 'affumicatura ottenuta con la tecnica Polarizzata a freddo Iperbarico', 'Pulsante Magneto-Cinetica', 'Immerso in Nettare di Sirena', 'Fermentazione quantico biometrica', 'Surgelamento Antimaterico a Risonanza Inversa.', 'affumicatura a stratificazione quantica', 'Idro-Cristallizzazione Sonora Quantistica', 'Impasto a Campi Magnetici Dualistici', 'sferificazione filamentare a molecole vibrazionali', 'Cottura a Forno dinamico Inversionale', 'Cottura sottovuoto frugale energeticamente negativa', 'Affumicatura tramite Big Bang Microcosmico', \"Marinatura tramite Reazioni d'Antimateria Diluite\", 'cottura con calore di stella lontana', 'Grigliatura a energia stellare DiV', 'Sferificazione Filamentare a Molecole Vibrazionali', 'Grigliatura Plasma Sintetico Risonante', 'marinatura psionica', 'Cottura a Vapore termocinetica Multipla', 'Proiezioni Olografiche Quantum Fluttuanti', 'spolveriamo', 'Congelamento Bio-luminiscente Sincronico', 'Cottura Sottovuoto Multirealità Collasante', 'Cottura Sottovuoto Frugale Energeticamente Negativa', 'Infusione temporale', 'Nduja Fritta Tanto', 'Grigliatura Psionica Dinamica Ritmica', 'Cryo-tessitura Energetica Polarizzata', 'Affumicatura a stratificazione Quantica', 'Cottura a vapore termocinetico multiplo', 'Cottura Idrodinamica Autoregolante', 'riduzione di essenza di Tachioni', 'Affumicatura a stratificazione quantica', 'Cottura a Vapore Termocinetika Multipla', 'Sferificazione Filamentara a Molecole Vibrazionali', 'Marinatura Temporale Sincronizzata', 'incisione elettromagnetica plasmica', 'Fermentazione Quantico Biometrica', 'saltare in padella realtà energetiche parallele', \"Marinatura tramite Reazioni d'antimateria Diluite\", 'Decostruzione Magnetica Risonante', 'Grigliatura elettro-molecolare a spaziatura variabile', 'Manipolazione gravitazionale', 'Cottura a Vapore Eodinamico Bilanciato', 'Decostruzione magnetica risonante', 'Cottura sottovuoto Frugale Energeticamente Negativa', 'Sferificazione a Gravità Psionica Variabile.', 'Cottura a Vapore Ecodinamico Bilanciato.', 'Sinergia Psionica', 'Bollitura Termografica a rotazione veloce', 'spruzzata su', 'cottura con microonde entropiche sincronizzate', 'Decostruzione Bio-Fotonica Emotiva', 'affumicatura a Stratificazione Quantica', 'Fermentazione Psionica Energetica', 'Cottura a Vapore con Flusso di Particelle Isoarmoniche', 'Bollitura insonorizzata armonizzata', 'Marinatura temporale sincronizzata', 'Piastrella Celestiale', 'Affumicatura a Stratificazione quantica', 'Superposizione Culinaria Quantistica', 'grigliatura a energia stellare DiV', 'Saltare in padella', 'Affumicatura tempora le Risonante', \"reazioni d'antimateria diluite\", 'Cottura al Forno con Paradosso Temporale Cronospeculare', 'Tecnica del Forno Dinamico Inversionale', 'Bollitura Infrasonica armonizzata', 'Saltare in Padella Realtà Energetiche Parallele', 'Cottura Sottovuoto Pulsar Magnetica.', 'Sinergia Elettro-Osmotica programmabile', 'Cottura sottovuoto Multirealità Collassante', 'saltata in padella', 'big Bang Microcosmico', 'Grigliatura eletro-molecolare a Spaziatura variabile', 'Saltare in Padella Singolarità Inversa', 'Cottura a vapore eodinamico bilanciato', \"Marinatura tramite Reazioni d'Antimatteria Diluite\", 'Sferificazione filamentare a Molecole Vibrazionali', 'Decostruzione magnetica Risonante', 'Big Bang Microcosmico', 'CryoTessitura Energetica Polarizzata', 'Latte+', 'Modellato oniricamente tetrazionalmente', 'Affumicatura Psionica sensoriale', 'cottura a vapore termocinetica multipla', 'Cioccorane', 'Campi Magnetici Entropici', 'Modellatura onirica Tetrazionale', 'Sferificazione con campi magnetici entropici', 'Cottura a Vapore Ecodinamico Bilanciato', 'saltata in padella in maniera classica', 'grigliatura elettro-molecolare a spaziatura variabile', 'Impasto Gravitazionale vorticoso', 'Cottura Sottovuoto Pulsar Magnetica', 'affumicatura psionica sensoriale', 'Congelamento BioLuminiscente Sincronico', 'Cottura Sottovuoto frugale Energeticamente Negativa', 'Cottura a vapore con flusso di particelle isoarmoniche', 'idro-cristallizzazione sonora quantistica', 'Modellatura Onirica Tetrazionale', 'Affumicatura Psionica Sensoriale', 'Affettate e fluttuanti', 'cottura sottovuoto con tecnica frugale energeticamente negativa', 'Congelamento bio-luminiscente sincronico', 'Taglio a risonanza sonica rigenerativa', 'affettamento a pulsazioni quantistiche', 'Impeto Gravitazionale', 'marinata nel Nettare di Sirena', 'preparazione con rigoroso scrupolo', 'Cottura sottovuoto bioma sintetico', 'Sferificazione Cromatica Interdimensionale', 'Tecnica di Sinergia Elettro-Osmotica Programmabile', 'sferificazione', \"Marinatura tramite reazioni d'Antimateria diluite\", 'Cottura con Microonde entropiche sincronizzate', 'Cottura con microonde entropiche sincronizzate', 'Cottura a Vapore Risonante Simbiotiko', 'Bollitura Infrasonica Armonizzata', 'cottura a Vapore con Flusso di Particelle Isoarmoniche', 'Cottura a Vapore Risonante simbiotico', 'Saltare in Padella Classica', 'infusione di Muffa Lunare', 'Grigliatura eletro-molecolare a spaziatura variabile', 'danza di calore', 'Decostruzione Atomica a Strati Energetici', 'Taglio Dimensionale a Lame Fotofiliche', 'Taglio Sinaptico biomimetico', 'Marinatura Sotto Zero a Polarità Inversa', 'Surgelamento Antimaterico a Risonanza Inversa', 'Taglio Sinaptico Biomimetico', 'Cryo-Tessitura energetica polarizzata', 'Cottura a Vapore Rison Simbiotico', 'grigliatura a energia stellare Diiv', 'cottura sottovuoto frugale energeticamente negativa', 'taglio a Risonanza Sonica Rigenerativa', 'Saltare in padella Realtà Energetiche Parallele', 'Saltare in padella classica', 'Cottura a forno dinamico inversionale', 'Saltare in padella realtà energetiche parallele', 'affumicato generato da campo psionico sensoriale', 'Sferificazione tramite Matrici Biofotiche', 'Decostruzione Interdimensionale Lovecraftiana', 'sferificazione a gravità psionica variabile', 'Cottura Sottovuoto Multirealità Collassante', 'Congelazione Iperdimensionalmente Stratificata', 'Cottura a vapore ecodinamico bilanciato', 'bollitura termografica a rotazione velosa', 'cotto al calore di una lontana stella', 'Cottura con Microonde Entropiche Sincronizzate', 'Big Bang microcosmico', 'Stratificazione Quantica', 'Presentazione artistica con Mycoflora', 'Gravitazionale', 'Cottura a Vapore Ecodinamico bilanciato', 'trattamento Luminante', 'Cottura Microonde Entropiche Sincronizzate']\n"
     ]
    }
   ],
   "source": [
    "print(len(all_techniques), all_techniques)"
   ]
  },
  {
   "cell_type": "code",
   "execution_count": null,
   "metadata": {},
   "outputs": [],
   "source": [
    "\"\"\"\n",
    "NB Ale:\n",
    "- ottenere techniques groups in post processing da techniques senno' si perde le techniques\n",
    "per i gruppi di appartenenza -> funzione che filtra l'output \n",
    "    - andromeda: fitro out ristoranti via lattea\n",
    "    - naturalisti: probabilmente filtro sui gruppi di tecniche (non alterazione...)\n",
    "    - armonisti: pare niente\n",
    "\n",
    "per i pianeti \n",
    "    - filtra input di mathc_recipes, aggiorna lista pianeti sulla base della distanza\n",
    "    - filtra lista ristoranti sulla base dei pianeti\n",
    "\n",
    "\"\"\""
   ]
  }
 ],
 "metadata": {
  "kernelspec": {
   "display_name": ".venv",
   "language": "python",
   "name": "python3"
  },
  "language_info": {
   "codemirror_mode": {
    "name": "ipython",
    "version": 3
   },
   "file_extension": ".py",
   "mimetype": "text/x-python",
   "name": "python",
   "nbconvert_exporter": "python",
   "pygments_lexer": "ipython3",
   "version": "3.10.16"
  }
 },
 "nbformat": 4,
 "nbformat_minor": 2
}
