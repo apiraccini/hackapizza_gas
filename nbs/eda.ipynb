{
 "cells": [
  {
   "cell_type": "markdown",
   "metadata": {},
   "source": [
    "# EDA"
   ]
  },
  {
   "cell_type": "code",
   "execution_count": null,
   "metadata": {},
   "outputs": [],
   "source": [
    "import json"
   ]
  },
  {
   "cell_type": "markdown",
   "metadata": {},
   "source": [
    "## Questions"
   ]
  },
  {
   "cell_type": "code",
   "execution_count": null,
   "metadata": {},
   "outputs": [],
   "source": [
    "parsed_questions = json.load(open('../data/processed/parsed_questions.json'))\n",
    "print(json.dumps(parsed_questions[0], indent=4))"
   ]
  },
  {
   "cell_type": "markdown",
   "metadata": {},
   "source": [
    "## Recipes"
   ]
  },
  {
   "cell_type": "code",
   "execution_count": null,
   "metadata": {},
   "outputs": [],
   "source": [
    "parsed_recipes = json.load(open('../data/processed/recipes.json'))\n",
    "\n",
    "all_restaurants = []\n",
    "all_ingredients = []\n",
    "all_techniques = []\n",
    "\n",
    "for recipe in parsed_recipes:\n",
    "    if recipe['recipe_restaurant']:\n",
    "        all_restaurants.append(recipe['recipe_restaurant'])\n",
    "    if recipe['recipe_ingredients']:\n",
    "        all_ingredients.extend(recipe['recipe_ingredients'])\n",
    "    if recipe['recipe_techniques']:\n",
    "        all_techniques.extend(recipe['recipe_techniques'])\n",
    "\n",
    "all_restaurants = list(set(all_restaurants))\n",
    "all_ingredients = list(set(all_ingredients))\n",
    "all_techniques = list(set(all_techniques))\n",
    "\n",
    "print(all_restaurants)"
   ]
  },
  {
   "cell_type": "code",
   "execution_count": null,
   "metadata": {},
   "outputs": [],
   "source": [
    "print(len(all_ingredients), all_ingredients)\n",
    "lattea_ingredients = [ingredient for ingredient in all_ingredients if 'latte' in ingredient]\n",
    "print(lattea_ingredients)"
   ]
  },
  {
   "cell_type": "code",
   "execution_count": null,
   "metadata": {},
   "outputs": [],
   "source": [
    "print(len(all_techniques), all_techniques)"
   ]
  }
 ],
 "metadata": {
  "kernelspec": {
   "display_name": ".venv",
   "language": "python",
   "name": "python3"
  },
  "language_info": {
   "codemirror_mode": {
    "name": "ipython",
    "version": 3
   },
   "file_extension": ".py",
   "mimetype": "text/x-python",
   "name": "python",
   "nbconvert_exporter": "python",
   "pygments_lexer": "ipython3",
   "version": "3.10.16"
  }
 },
 "nbformat": 4,
 "nbformat_minor": 2
}
