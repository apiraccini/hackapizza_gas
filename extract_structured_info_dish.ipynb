{
 "cells": [
  {
   "cell_type": "code",
   "execution_count": 6,
   "metadata": {},
   "outputs": [
    {
     "name": "stderr",
     "output_type": "stream",
     "text": [
      "100%|██████████| 1/1 [00:03<00:00,  3.33s/it]"
     ]
    },
    {
     "name": "stdout",
     "output_type": "stream",
     "text": [
      "{'recipe_chef': 'Aurora Stellaris', 'recipe_name': 'Nebulosa Celestiale alla Stellaris', 'recipe_restaurant': 'Anima Cosmica', 'recipe_text': 'Lasciatevi trasportare in un viaggio attraverso le profondità cosmiche con la nostra \"Nebulosa Celestiale alla Stellaris\", una sinfonia culinaria che fonde la magia delle stelle con l\\'arte della cucina quantistica. Al centro del piatto brilla un arrosto di Carne di Balena Spaziale, sapientemente cotto utilizzando microonde entropiche sincronizzate per ottenere una superficie croccante e dorata che racchiude un cuore succulento.\\n\\nAccanto, la carne di Mucca, teneramente preparata con la cottura a vapore termocinetica multipla, si fonde armoniosamente con funghi dell\\'Etere fluttuanti, esaltando un delicato profumo che solletica i sensi. Un contorno di Riso di Cassandra cuoce con vapore a flusso di particelle isoarmoniche, ogni singolo chicco brilla come una stella danzante, conservando i suoi nutrienti e colori translucidi.\\n\\nIl sapore imprevedibile delle Shard di Materia Oscura è catturato in un\\'infusione sublime, avvolgendo tutto in un\\'atmosfera di meraviglia gravitazionale. Sorprendetevi con delle finissime teste di Idra, immerse in un consommé rigenerativo, la cui preparazione segue tecniche di taglio a risonanza sonica rigenerativa per assicurarne la sicurezza e il sapore impeccabile.\\n\\nA completare questa opera d\\'arte, il nostro Pane di Luce irradia energia dorata, pronto a raccogliere ogni sapore con la sua morbidezza. E, come culmine di questo viaggio stellare, una degustazione di Biscotti della Galassia ruota allegramente intorno al piatto; scaglie di stelle e zucchero cosmico, accanto a un velato sentore di spezie Melange, che prol Kittel l\\'esperienza con un dolce indugio presciente che eleva l\\'anima oltre le stelle.\\n\\n## Ingredienti\\n\\n- Shard di Materia Oscura\\n- Carne di Balena spaziale\\n- Carne di Mucca\\n- Teste di Idra\\n- Riso di Cassandra\\n- Biscotti della Galassia\\n- Pane di Luce\\n- Funghi dell\\'Etere\\n- Spezie Melange\\n\\n## Tecniche\\n\\n- Cottura a Vapore con Flusso di Particelle Isoarmoniche\\n- Cottura a Vapore Termocinetica Multipla\\n- Taglio a Risonanza Sonica Rigenerativa\\n- Cottura con Microonde Entropiche Sincronizzate', 'recipe_ingredients': ['Shard di Materia Oscura', 'Carne di Balena spaziale', 'Carne di Mucca', 'Teste di Idra', 'Riso di Cassandra', 'Biscotti della Galassia', 'Pane di Luce', \"Funghi dell'Etere\", 'Spezie Melange'], 'recipe_techniques': ['Cottura a Vapore con Flusso di Particelle Isoarmoniche', 'Cottura a Vapore Termocinetica Multipla', 'Taglio a Risonanza Sonica Rigenerativa', 'Cottura con Microonde Entropiche Sincronizzate']}\n"
     ]
    },
    {
     "name": "stderr",
     "output_type": "stream",
     "text": [
      "\n"
     ]
    }
   ],
   "source": [
    "import json\n",
    "\n",
    "from tqdm import tqdm\n",
    "\n",
    "from src.config import Config\n",
    "\n",
    "from src.utils.llm import call_llm, get_model_source\n",
    "\n",
    "info = [{'recipe_chef': 'Aurora Stellaris',\n",
    "  'recipe_name': 'Nebulosa Celestiale alla Stellaris',\n",
    "  'recipe_restaurant': 'Anima Cosmica',\n",
    "  'recipe_text': 'Lasciatevi trasportare in un viaggio attraverso le '\n",
    "                 'profondità cosmiche con la nostra \"Nebulosa Celestiale alla '\n",
    "                 'Stellaris\", una sinfonia culinaria che fonde la magia delle '\n",
    "                 \"stelle con l'arte della cucina quantistica. Al centro del \"\n",
    "                 'piatto brilla un arrosto di Carne di Balena Spaziale, '\n",
    "                 'sapientemente cotto utilizzando microonde entropiche '\n",
    "                 'sincronizzate per ottenere una superficie croccante e dorata '\n",
    "                 'che racchiude un cuore succulento.\\n'\n",
    "                 '\\n'\n",
    "                 'Accanto, la carne di Mucca, teneramente preparata con la '\n",
    "                 'cottura a vapore termocinetica multipla, si fonde '\n",
    "                 \"armoniosamente con funghi dell'Etere fluttuanti, esaltando \"\n",
    "                 'un delicato profumo che solletica i sensi. Un contorno di '\n",
    "                 'Riso di Cassandra cuoce con vapore a flusso di particelle '\n",
    "                 'isoarmoniche, ogni singolo chicco brilla come una stella '\n",
    "                 'danzante, conservando i suoi nutrienti e colori '\n",
    "                 'translucidi.\\n'\n",
    "                 '\\n'\n",
    "                'Il sapore imprevedibile delle Shard di Materia Oscura è '\n",
    "                 \"catturato in un'infusione sublime, avvolgendo tutto in \"\n",
    "                 \"un'atmosfera di meraviglia gravitazionale. Sorprendetevi con \"\n",
    "                 'delle finissime teste di Idra, immerse in un consommé '\n",
    "                 'rigenerativo, la cui preparazione segue tecniche di taglio a '\n",
    "                 'risonanza sonica rigenerativa per assicurarne la sicurezza e '\n",
    "                 'il sapore impeccabile.\\n'\n",
    "                 '\\n'\n",
    "                 \"A completare questa opera d'arte, il nostro Pane di Luce \"\n",
    "                 'irradia energia dorata, pronto a raccogliere ogni sapore con '\n",
    "                 'la sua morbidezza. E, come culmine di questo viaggio '\n",
    "                 'stellare, una degustazione di Biscotti della Galassia ruota '\n",
    "                 'allegramente intorno al piatto; scaglie di stelle e zucchero '\n",
    "                 'cosmico, accanto a un velato sentore di spezie Melange, che '\n",
    "                 \"prolungano l'esperienza con un dolce indugio presciente che \"\n",
    "                 \"eleva l'anima oltre le stelle.\\n\"\n",
    "                 '\\n'\n",
    "                 '## Ingredienti\\n'\n",
    "                 '\\n'\n",
    "                 '- Shard di Materia Oscura\\n'\n",
    "                 '- Carne di Balena spaziale\\n'\n",
    "                 '- Carne di Mucca\\n'\n",
    "                 '- Teste di Idra\\n'\n",
    "                 '- Riso di Cassandra\\n'\n",
    "                 '- Biscotti della Galassia\\n'\n",
    "                 '- Pane di Luce\\n'\n",
    "                 \"- Funghi dell'Etere\\n\"\n",
    "                 '- Spezie Melange\\n'\n",
    "               '\\n'\n",
    "                 '## Tecniche\\n'\n",
    "                 '\\n'\n",
    "                 '- Cottura a Vapore con Flusso di Particelle Isoarmoniche\\n'\n",
    "                 '- Cottura a Vapore Termocinetica Multipla\\n'\n",
    "                 '- Taglio a Risonanza Sonica Rigenerativa\\n'\n",
    "                 '- Cottura con Microonde Entropiche Sincronizzate'\n",
    "                 }]\n",
    "\n",
    "\n",
    "\n",
    "\n",
    "provider = Config.provider\n",
    "model = Config.model\n",
    "output_model_str = get_model_source(\"src.datamodels\", \"DishRecipe\")\n",
    "\n",
    "output = []\n",
    "for request in tqdm(info):\n",
    "    #print(request)\n",
    "    system_message = Config.system_message_template_dish_recipe.format(\n",
    "        output_model_str=output_model_str\n",
    "    )\n",
    "    message = Config.message_template_dish_recipe.format(dish_recipe=request)\n",
    "\n",
    "    try:\n",
    "        response = call_llm(\n",
    "            message=message,\n",
    "            sys_message=system_message,\n",
    "            model=f\"{provider}:{model}\",\n",
    "            json_output=True,\n",
    "        )\n",
    "        response = json.loads(response)\n",
    "        output_tmp = {\"input_JSON\": request, \"output_JSON\": response}\n",
    "        print(response)\n",
    "        output.append(output_tmp)\n",
    "    except Exception:\n",
    "        output.append({\"input_JSON\": request, \"output_JSON\": \"Error\"})\n",
    "    \n",
    "\n"
   ]
  }
 ],
 "metadata": {
  "kernelspec": {
   "display_name": ".venv",
   "language": "python",
   "name": "python3"
  },
  "language_info": {
   "codemirror_mode": {
    "name": "ipython",
    "version": 3
   },
   "file_extension": ".py",
   "mimetype": "text/x-python",
   "name": "python",
   "nbconvert_exporter": "python",
   "pygments_lexer": "ipython3",
   "version": "3.10.16"
  }
 },
 "nbformat": 4,
 "nbformat_minor": 2
}
